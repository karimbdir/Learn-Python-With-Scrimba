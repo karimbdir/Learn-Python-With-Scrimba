{
 "cells": [
  {
   "cell_type": "markdown",
   "metadata": {},
   "source": [
    "# Variables & Datatypes - Exercise\n"
   ]
  },
  {
   "cell_type": "markdown",
   "metadata": {},
   "source": [
    "#Create appropriate Variables for Item name, the price \n",
    "#and how many you have in stock"
   ]
  },
  {
   "cell_type": "code",
   "execution_count": 7,
   "metadata": {},
   "outputs": [
    {
     "name": "stdout",
     "output_type": "stream",
     "text": [
      "Pen 1.5 5000\n"
     ]
    }
   ],
   "source": [
    "item = \"Pen\"\n",
    "price = 1.5\n",
    "stock = 5000\n",
    "\n",
    "print(item, price, stock)"
   ]
  },
  {
   "cell_type": "markdown",
   "metadata": {},
   "source": [
    "# Arithmetic Operations"
   ]
  },
  {
   "cell_type": "code",
   "execution_count": 8,
   "metadata": {},
   "outputs": [
    {
     "name": "stdout",
     "output_type": "stream",
     "text": [
      "Addition :  8\n",
      "Subtraction :  4\n",
      "Multiplication :  12\n",
      "Division (float) :  3.0\n",
      "Division (floor) :  3\n",
      "Modulus :  0\n",
      "Exponent :  36\n"
     ]
    }
   ],
   "source": [
    "a=6\n",
    "b=2\n",
    "print('Addition : ', a + b)\n",
    "print('Subtraction : ', a - b)\n",
    "print('Multiplication : ', a * b)\n",
    "print('Division (float) : ', a / b)\n",
    "print('Division (floor) : ', a // b)\n",
    "print('Modulus : ', a % b)\n",
    "print('Exponent : ', a ** b)"
   ]
  },
  {
   "cell_type": "markdown",
   "metadata": {},
   "source": [
    "# Strings - Basics/ Slicing - Exercise"
   ]
  },
  {
   "cell_type": "code",
   "execution_count": 15,
   "metadata": {},
   "outputs": [
    {
     "name": "stdout",
     "output_type": "stream",
     "text": [
      "1 welcome ring to tyler\n",
      "1 Welcome Ring To Tyler\n"
     ]
    }
   ],
   "source": [
    "msg ='welcome to Python 101: Strings'\n",
    "newmsg = msg[18] + ' ' +msg[:7] + ' ' + msg[25:29] +' ' + msg[8:10] +  ' ' + msg[8] + msg[12] + msg[2]+ msg[1] + msg[25] \n",
    "print(newmsg)\n",
    "print(newmsg.title())"
   ]
  },
  {
   "cell_type": "code",
   "execution_count": 16,
   "metadata": {},
   "outputs": [
    {
     "name": "stdout",
     "output_type": "stream",
     "text": [
      "relyt ot gnir emoclew 1\n",
      "Relyt Ot Gnir Emoclew 1\n"
     ]
    }
   ],
   "source": [
    "print(newmsg[::-1])\n",
    "print(newmsg[::-1].title())"
   ]
  },
  {
   "cell_type": "markdown",
   "metadata": {},
   "source": [
    "# user Input - Exercise"
   ]
  },
  {
   "cell_type": "markdown",
   "metadata": {},
   "source": [
    " - Create a distance converter converting Km to miles \n",
    " \n",
    " - Take two inputs from user: Their first name and the distance in km\n",
    "\n",
    " - Print: Greet user by name and show km, and mile values\n",
    " \n",
    " - 1 mile is 1.609 kilometers\n",
    " \n",
    " - hint: use correct types for calculating and print\n",
    "\n",
    " - Did you capitalize the name"
   ]
  },
  {
   "cell_type": "code",
   "execution_count": 22,
   "metadata": {},
   "outputs": [
    {
     "name": "stdout",
     "output_type": "stream",
     "text": [
      "what is your Name: Eric\n",
      "What is the Distance: 50\n",
      "Hello Eric 50 31.07520198881293\n"
     ]
    }
   ],
   "source": [
    "name = input('what is your Name: ')\n",
    "distance_km = input('What is the Distance: ')\n",
    "miles = float(distance_km) / 1.609\n",
    "\n",
    "print('Hello ' + str(name)+' ' + str(distance_km) +' '+ str(miles))"
   ]
  },
  {
   "cell_type": "code",
   "execution_count": 25,
   "metadata": {},
   "outputs": [
    {
     "name": "stdout",
     "output_type": "stream",
     "text": [
      "Hello Eric Your 50 KM is equivalent to 31.075\n"
     ]
    }
   ],
   "source": [
    "#or \n",
    "print(f'Hello {name.title()} Your {distance_km} KM is equivalent to {round(miles,3)}')"
   ]
  },
  {
   "cell_type": "code",
   "execution_count": 27,
   "metadata": {},
   "outputs": [
    {
     "name": "stdout",
     "output_type": "stream",
     "text": [
      "hello, Eric Your 50 KM is equivalent to 31.0752\n"
     ]
    }
   ],
   "source": [
    "#or \n",
    "print('hello, {} Your {} KM is equivalent to {}'.format(name.title(),distance_km,round(miles,5)))"
   ]
  },
  {
   "cell_type": "markdown",
   "metadata": {},
   "source": [
    "# Lists - Exercise"
   ]
  },
  {
   "cell_type": "code",
   "execution_count": 31,
   "metadata": {},
   "outputs": [
    {
     "name": "stdout",
     "output_type": "stream",
     "text": [
      "Sales of Last Day: 10\n",
      "Worst Day Profit 4.5\n",
      "Best Day Profit 63.0\n",
      "Combined Profit 67.5\n"
     ]
    }
   ],
   "source": [
    "sales_w1 = [7,3,42,19,15,35,9]\n",
    "sales_w2 = [12,4,26,10,7,28]\n",
    "lastdayweek2 = input('Sales of Last Day: ')\n",
    "sales_w2.append(int(lastdayweek2))\n",
    "sales = []\n",
    "sales.extend(sales_w1)\n",
    "sales.extend(sales_w2)\n",
    "sales.sort()\n",
    "worst_profit = sales[0] * 1.5\n",
    "best_profit = sales[-1] * 1.5\n",
    "print('Worst Day Profit {}'.format(worst_profit))\n",
    "print('Best Day Profit {}'.format(best_profit))\n",
    "print('Combined Profit {}'.format(worst_profit+best_profit))"
   ]
  },
  {
   "cell_type": "markdown",
   "metadata": {},
   "source": [
    "# Split and Join - Exercise"
   ]
  },
  {
   "cell_type": "markdown",
   "metadata": {},
   "source": [
    "\n",
    "csv = 'Eric,John,Michael,Terry,Graham:TerryG;Brian'\n",
    "\n",
    "friends_list = ['Exercise: fill me with names']\n",
    "\n",
    "print(friends_list)\n",
    "\n",
    "From the list above fill a list(friends_list) properly\n",
    "\n",
    "with the names of all the friends. One per \"slot\"\n",
    "\n",
    "you may need to run same command several times\n",
    "\n",
    "use print() statements to work your way through the exercise"
   ]
  },
  {
   "cell_type": "code",
   "execution_count": 9,
   "metadata": {},
   "outputs": [
    {
     "name": "stdout",
     "output_type": "stream",
     "text": [
      "['Eric', 'John', 'Michael', 'Terry', 'Graham', 'TerryG', 'Brian']\n"
     ]
    }
   ],
   "source": [
    "\n",
    "csv = 'Eric,John,Michael,Terry,Graham:TerryG;Brian'\n",
    "friends_list = (','.join(','.join(csv.split(';')).split(':')).split(','))\n",
    "print(friends_list)"
   ]
  },
  {
   "cell_type": "code",
   "execution_count": 10,
   "metadata": {},
   "outputs": [],
   "source": [
    "#or\n",
    "csv = 'Eric,John,Michael,Terry,Graham:TerryG;Brian'\n",
    "newcsv = csv.replace(':',',').replace(';',',')"
   ]
  },
  {
   "cell_type": "code",
   "execution_count": 11,
   "metadata": {},
   "outputs": [
    {
     "name": "stdout",
     "output_type": "stream",
     "text": [
      "Eric,John,Michael,Terry,Graham,TerryG,Brian\n"
     ]
    }
   ],
   "source": [
    "print(newcsv)"
   ]
  },
  {
   "cell_type": "code",
   "execution_count": 13,
   "metadata": {},
   "outputs": [
    {
     "name": "stdout",
     "output_type": "stream",
     "text": [
      "['Eric', 'John', 'Michael', 'Terry', 'Graham', 'TerryG', 'Brian']\n"
     ]
    }
   ],
   "source": [
    "friends_list = newcsv.split(',')\n",
    "print(friends_list)"
   ]
  },
  {
   "cell_type": "markdown",
   "metadata": {},
   "source": [
    "# Sets - Exercise"
   ]
  },
  {
   "cell_type": "markdown",
   "metadata": {},
   "source": [
    "#Sets - Exercise\n",
    "\n",
    "#1. Check if ‘Eric’ and ‘John’ exist in friends\n",
    "#2. combine or add the two sets \n",
    "#3. Find names that are in both sets\n",
    "#4. find names that are only in friends\n",
    "#5. Show only the names who only appear in one of the lists\n",
    "#6. Create a new cars-list without duplicates\n",
    "\n",
    "friends = {'John','Michael','Terry','Eric','Graham'}\n",
    "\n",
    "my_friends = {'Reg','Loretta','Colin','John','Graham'}\n",
    "\n",
    "cars =['900','420','V70','911','996','V90','911','911','S','328','900']\n"
   ]
  },
  {
   "cell_type": "code",
   "execution_count": 15,
   "metadata": {},
   "outputs": [
    {
     "name": "stdout",
     "output_type": "stream",
     "text": [
      "True\n"
     ]
    }
   ],
   "source": [
    "\n",
    "friends = {'John','Michael','Terry','Eric','Graham'}\n",
    "my_friends = {'Reg','Loretta','Colin','John','Graham'}\n",
    "cars =['900','420','V70','911','996','V90','911','911','S','328','900']\n",
    "print('Eric' in friends and 'John' in friends )"
   ]
  },
  {
   "cell_type": "code",
   "execution_count": 16,
   "metadata": {},
   "outputs": [
    {
     "name": "stdout",
     "output_type": "stream",
     "text": [
      "{'Graham', 'John', 'Colin', 'Loretta', 'Reg', 'Terry', 'Michael', 'Eric'}\n",
      "{'Graham', 'John', 'Colin', 'Loretta', 'Reg', 'Terry', 'Michael', 'Eric'}\n"
     ]
    }
   ],
   "source": [
    "print(friends.union(my_friends))\n",
    "#or\n",
    "print(friends | my_friends)"
   ]
  },
  {
   "cell_type": "code",
   "execution_count": 17,
   "metadata": {},
   "outputs": [
    {
     "name": "stdout",
     "output_type": "stream",
     "text": [
      "{'Graham', 'John'}\n"
     ]
    }
   ],
   "source": [
    "print(friends.intersection(my_friends))"
   ]
  },
  {
   "cell_type": "code",
   "execution_count": 20,
   "metadata": {},
   "outputs": [
    {
     "name": "stdout",
     "output_type": "stream",
     "text": [
      "{'Terry', 'Michael', 'Eric'}\n",
      "{'Terry', 'Michael', 'Eric'}\n"
     ]
    }
   ],
   "source": [
    "print(friends.difference(my_friends))\n",
    "#or\n",
    "print(friends - my_friends)"
   ]
  },
  {
   "cell_type": "code",
   "execution_count": 21,
   "metadata": {},
   "outputs": [
    {
     "name": "stdout",
     "output_type": "stream",
     "text": [
      "{'Eric', 'Colin', 'Reg', 'Terry', 'Michael', 'Loretta'}\n",
      "{'Eric', 'Colin', 'Reg', 'Terry', 'Michael', 'Loretta'}\n"
     ]
    }
   ],
   "source": [
    "print(friends.symmetric_difference(my_friends))\n",
    "#or\n",
    "print(friends ^ my_friends)"
   ]
  },
  {
   "cell_type": "code",
   "execution_count": 22,
   "metadata": {},
   "outputs": [
    {
     "name": "stdout",
     "output_type": "stream",
     "text": [
      "{'328', '900', 'S', '911', '996', '420', 'V70', 'V90'}\n"
     ]
    }
   ],
   "source": [
    "cars_no_duplicates = set(cars)\n",
    "print(cars_no_duplicates)"
   ]
  },
  {
   "cell_type": "markdown",
   "metadata": {},
   "source": [
    "# Functions - Exercise"
   ]
  },
  {
   "cell_type": "markdown",
   "metadata": {},
   "source": [
    "def greeting(name, age=28):\n",
    "    #Greets user with 'name' from 'input box' and 'age', if available, default age is used\n",
    "    print('Hello '  +  name + ', you are ' + str(age) +'!')\n",
    "    print(f'Hello {name}, you are {age}!')\n",
    "\n",
    "name = input('Enter your name: ')\n",
    "age = input('Enter your age: ')\n",
    "greeting(name, 32)\n",
    " 1. Add new print statement - on a new line\n",
    "    which says 'We hear you like the color xxx! xxx is a string with color \n",
    " 2. extend the function with another  input parameter 'color', that defaults to 'red'\n",
    " 3. Capture the color via an input box as variable:color \n",
    " 4. Change the 'You are xx!' text to say 'you will be xx+1 years old next birthday \n",
    "  adding 1 to the age\n",
    " 5. Capitalize first letter of the 'name', and rest are small caps \n",
    " 6. Favorite color should be in lowercase \n"
   ]
  },
  {
   "cell_type": "code",
   "execution_count": 26,
   "metadata": {},
   "outputs": [
    {
     "name": "stdout",
     "output_type": "stream",
     "text": [
      "Color: red\n",
      "Enter your name: brian\n",
      "Enter your age: 32\n",
      "Hello brian, you are 32!\n",
      "Hello brian, you are 32!\n",
      "We hear you like the Color red !\n",
      "Hello Brian you are 33 years old next birthday\n"
     ]
    }
   ],
   "source": [
    "def greeting(name, age=28, color = 'red'):\n",
    "    #Greets user with 'name' from 'input box' and 'age', if available, default age is used\n",
    "    print('Hello '  +  name + ', you are ' + str(age) +'!')\n",
    "    print(f'Hello {name}, you are {age}!')\n",
    "    print('We hear you like the Color {} !'.format(color.lower()))\n",
    "    print('Hello {} you are {} years old next birthday'.format(name.capitalize(),age+1))\n",
    "color = input('Color: ')\n",
    "name = input('Enter your name: ')\n",
    "age = input('Enter your age: ')\n",
    "greeting(name, int(age), color)"
   ]
  },
  {
   "cell_type": "markdown",
   "metadata": {},
   "source": [
    "# If/Elif/Else - Exercise"
   ]
  },
  {
   "cell_type": "markdown",
   "metadata": {},
   "source": [
    "\n",
    "Create a calculator which handles +,-,*,/ and outputs answer based on the mode/ operator used\n",
    " \n",
    " Hint: use 3 separate inputs \n",
    " \n",
    " Bonus: Extend functionality with extra mode so it also does celsius to fahrenheit conversion\n",
    " \n",
    " formula is: temp in C*9/5 + 32 = temp in f"
   ]
  },
  {
   "cell_type": "code",
   "execution_count": 6,
   "metadata": {},
   "outputs": [
    {
     "name": "stdout",
     "output_type": "stream",
     "text": [
      "Enter Operation(+,-,*,/): *\n",
      "enter first number: 6\n",
      "enter second nuber: 6\n",
      "Answer is 36.0\n"
     ]
    }
   ],
   "source": [
    "#Calculator without the Celsius to Fahrenheit Conversion\n",
    "operation = input('Enter Operation(+,-,*,/): ')\n",
    "number1 = float(input('enter first number: '))\n",
    "number2 = float(input('enter second nuber: '))\n",
    "\n",
    "if operation == '+':\n",
    "    print(f'Answer is {number1 + number2}')\n",
    "elif operation == \"-\":\n",
    "    print(f'Answer is {number1 - number2}')\n",
    "elif operation == \"*\":\n",
    "    print(f'Answer is {number1 * number2}')\n",
    "elif operation == \"/\":\n",
    "    print(f'Answer is {number1 / number2}')\n",
    "else:\n",
    "    print('Wrong operation!')\n"
   ]
  },
  {
   "cell_type": "code",
   "execution_count": 10,
   "metadata": {},
   "outputs": [
    {
     "name": "stdout",
     "output_type": "stream",
     "text": [
      "Enter Operation(+,-,*,/) or f for C° to Fahrenheit Conversion: f\n",
      "enter first number: 56\n",
      "56.0 C° is equivalent to 132.8 Fahrenheit\n"
     ]
    }
   ],
   "source": [
    "#Calculator with the Celsius to Fahrenheit Conversion\n",
    "operation = input('Enter Operation(+,-,*,/) or f for C° to Fahrenheit Conversion: ')\n",
    "number1 = float(input('enter first number: '))\n",
    "if operation.lower() == 'f':\n",
    "    print(f'{number1} C° is equivalent to {(number1*9/5)+32} Fahrenheit')\n",
    "else:\n",
    "    number2 = float(input('enter second nuber: '))\n",
    "    if operation == '+':\n",
    "        print(f'Answer is {number1 + number2}')\n",
    "    elif operation == \"-\":\n",
    "        print(f'Answer is {number1 - number2}')\n",
    "    elif operation == \"*\":\n",
    "        print(f'Answer is {number1 * number2}')\n",
    "    elif operation == \"/\":\n",
    "        print(f'Answer is {number1 / number2}')\n",
    "    else:\n",
    "        print('Wrong operation!')\n",
    "\n",
    "    "
   ]
  },
  {
   "cell_type": "markdown",
   "metadata": {},
   "source": [
    "# Conditionals - Exercise"
   ]
  },
  {
   "cell_type": "markdown",
   "metadata": {},
   "source": [
    "def num_days(month):\n",
    "\n",
    "    if month == 'jan':\n",
    "        print('number of days in',month,'is',31)\n",
    "    elif month == 'feb':\n",
    "        print('number of days in',month,'is',28)\n",
    "    elif month == 'mar':\n",
    "        print('number of days in',month,'is',31)\n",
    "    elif month == 'apr':\n",
    "        print('number of days in',month,'is',30)\n",
    "    elif month == 'may':\n",
    "        print('number of days in',month,'is',31)\n",
    "    elif month == 'jun':\n",
    "        print('number of days in',month,'is',30)\n",
    "    elif month == 'jul':\n",
    "        print('number of days in',month,'is',31)\n",
    "    elif month == 'aug':\n",
    "        print('number of days in',month,'is',31)\n",
    "    elif month == 'sep':\n",
    "        print('number of days in',month,'is',30)\n",
    "    elif month == 'oct':\n",
    "        print('number of days in',month,'is',31)\n",
    "    elif month == 'nov':\n",
    "        print('number of days in',month,'is',30)\n",
    "    elif month == 'dec':\n",
    "        print('number of days in',month,'is',31)\n",
    "\n",
    "num_days('oct')\n",
    "\n",
    "optimize/shorten the code in the function\n",
    "\n",
    "try to reduce the number of conditionals \n"
   ]
  },
  {
   "cell_type": "code",
   "execution_count": 18,
   "metadata": {},
   "outputs": [],
   "source": [
    "def num_days(month):\n",
    "    if month == 'jan' or month == 'mar'or month == 'may'or month =='aug'or month =='jul'or month =='oct'or month =='dec':\n",
    "        print('number of days in ', month ,' is ', 31)\n",
    "    elif month == 'apr'or month=='jun'or month == 'sep'or month =='nov':\n",
    "        print('number of days in ', month, ' is ', 30)\n",
    "    elif month == 'feb':\n",
    "        print('number of days in ', month,' is',28)\n",
    "    else:\n",
    "        print('Month not defined')"
   ]
  },
  {
   "cell_type": "code",
   "execution_count": 20,
   "metadata": {},
   "outputs": [
    {
     "name": "stdout",
     "output_type": "stream",
     "text": [
      "number of days in  feb  is 28\n",
      "number of days in  jan  is  31\n",
      "number of days in  sep  is  30\n",
      "Month not defined\n"
     ]
    }
   ],
   "source": [
    "num_days('feb')\n",
    "num_days('jan')\n",
    "num_days('sep')\n",
    "num_days('kik')"
   ]
  },
  {
   "cell_type": "code",
   "execution_count": 21,
   "metadata": {},
   "outputs": [
    {
     "name": "stdout",
     "output_type": "stream",
     "text": [
      "number of days in feb is 28\n"
     ]
    }
   ],
   "source": [
    "#or \n",
    "def num_days(month):\n",
    "    days = 31\n",
    "    if month == 'apr' or month =='jun' or month =='sep' or month =='nov':\n",
    "        days = 30\n",
    "    elif month == 'feb':\n",
    "        days = 28\n",
    "    print('number of days in',month,'is',days)\n",
    "    \n",
    "\n",
    "num_days('feb')"
   ]
  },
  {
   "cell_type": "code",
   "execution_count": 22,
   "metadata": {},
   "outputs": [
    {
     "name": "stdout",
     "output_type": "stream",
     "text": [
      "number of days in jan is 31\n"
     ]
    }
   ],
   "source": [
    "#or \n",
    "def num_days(month):\n",
    "    days = 31\n",
    "    if month in {'apr','jun','sep','nov'}:\n",
    "    #if month == 'apr' or month =='jun' or month =='sep' or month =='nov':\n",
    "        days = 30\n",
    "    elif month == 'feb':\n",
    "        days = 28\n",
    "    print('number of days in',month,'is',days)\n",
    "    \n",
    "\n",
    "num_days('jan')"
   ]
  },
  {
   "cell_type": "markdown",
   "metadata": {},
   "source": [
    "# While Loops - Exercise"
   ]
  },
  {
   "cell_type": "markdown",
   "metadata": {},
   "source": [
    "\n",
    " Guess the correct number in 3 guesses. If you don’t get it right after 3 guesses you lose the game. \n",
    "\n",
    " Give user input box: 1. To capture guesses, \n",
    "\n",
    " print(and input boxes) 1. If user wins 2. If user loses\n",
    " \n",
    " Tip:( remember you won’t see  print statements durng execution, so If you want to see prints during whle loop, then print to the input box\n",
    "\n",
    "\n",
    " Modification 1: number 1-100, tell user if guess is too high/low ,and let them have 5-10 guesses.\n",
    "\n",
    " Tip:( remember you won’t see  print statements during execution, so If you want to see prints during whle loop, print to the input box (This is specific to this platform)"
   ]
  },
  {
   "cell_type": "code",
   "execution_count": 10,
   "metadata": {},
   "outputs": [
    {
     "name": "stdout",
     "output_type": "stream",
     "text": [
      "Guess # 1 a number between 1-20: last guess is :0 20\n",
      "Not Right\n",
      "Guess # 2 a number between 1-20: last guess is :20 15\n",
      "Not Right\n",
      "Guess # 3 a number between 1-20: last guess is :15 36\n",
      "Not Right\n",
      "You Lost, It was 12, better luck next time\n"
     ]
    }
   ],
   "source": [
    "number = 12\n",
    "guess = 0\n",
    "guess_limit = 3\n",
    "guess_number = 0\n",
    "\n",
    "while guess_number < guess_limit:\n",
    "    guess = int(input(f'Guess # {guess_number+1} a number between 1-20: last guess is :{guess} '))\n",
    "    if guess == number:\n",
    "        print(f'You win! Your {guess} was Right')\n",
    "        break\n",
    "    else:\n",
    "        print(f'Not Right')\n",
    "        guess_number+=1\n",
    "if guess != number:\n",
    "    print(f'You Lost, It was {number}, better luck next time')"
   ]
  },
  {
   "cell_type": "code",
   "execution_count": 15,
   "metadata": {},
   "outputs": [
    {
     "name": "stdout",
     "output_type": "stream",
     "text": [
      "Guess a number between 1-100: 77\n",
      "77 was high - Guess Again: 59\n",
      "59 was low - Guess Again: 42\n",
      "42 was low - Guess Again: 76\n",
      "76 was high - Guess Again: 56\n",
      "You Lost, It was 65, better luck next time\n"
     ]
    }
   ],
   "source": [
    "number = 65\n",
    "guess = 0\n",
    "guess_limit = 5\n",
    "guess_number = 0\n",
    "guess = int(input(f'Guess a number between 1-100: '))\n",
    "guess_number += 1\n",
    "while guess_number < guess_limit:\n",
    "    if guess != number:\n",
    "        guess_number+=1\n",
    "        if guess > number:\n",
    "            guess = int(input(f'{guess} was high - Guess Again: '))\n",
    "        else:\n",
    "            guess = int(input(f'{guess} was low - Guess Again: '))\n",
    "                            \n",
    "    \n",
    "    if guess == number:\n",
    "        print(f'You win! Your {guess} was Right')\n",
    "        break\n",
    "if guess != number:\n",
    "    print(f'You Lost, It was {number}, better luck next time')"
   ]
  },
  {
   "cell_type": "markdown",
   "metadata": {},
   "source": [
    "# For Loops - Exercise"
   ]
  },
  {
   "cell_type": "code",
   "execution_count": 18,
   "metadata": {},
   "outputs": [
    {
     "name": "stdout",
     "output_type": "stream",
     "text": [
      "Enter a new name: Salwa \n",
      "Enter a new name: Chedly\n",
      "John Cleese You are invited to the party on saturday. ! \n",
      "Eric Idle You are invited to the party on saturday. ! \n",
      "Michael You are invited to the party on saturday. ! \n",
      "Graham Chapman You are invited to the party on saturday. ! \n",
      "Terry You are invited to the party on saturday. ! \n",
      "Terry Jones You are invited to the party on saturday. ! \n",
      "Salwa  You are invited to the party on saturday. ! \n",
      "Chedly You are invited to the party on saturday. ! \n"
     ]
    }
   ],
   "source": [
    "names = ['john ClEEse','Eric IDLE','michael']\n",
    "names1 = ['graHam chapman', 'TERRY', 'terry jones']\n",
    "message = 'You are invited to the party on saturday.'\n",
    "\n",
    "names = names + names1 #to combine two lists or names.extend(names1)\n",
    "for index in range(2):\n",
    "    names.append(input('Enter a new name: '))\n",
    "for name in names:\n",
    "    message1 = f'{name.title()} {message} ! '\n",
    "    print(message1)\n"
   ]
  },
  {
   "cell_type": "markdown",
   "metadata": {},
   "source": [
    "# Dictionaries - Exercise V1.0"
   ]
  },
  {
   "cell_type": "markdown",
   "metadata": {},
   "source": [
    "#It’s...not really an adventure game...#Ver 1.0\n",
    "#Your village is being attacked by 'a germanic tribe' and you need to run to the stores and get the right things to save your village, and probably some good looking girl or boy you want to marry. All prices in gold pieces excl. VAT... chop chop!! ze germanz are coming!\n",
    "#The code should allow you to get 1 thing from each store and each item you get should be removed from the store inventory, then do same for next store...\n",
    "### one way to buy by typing the key 'newt' in an input box...or something\n",
    "### at end you should print the 'items' you have taken..in this version you don't have to pay for stuff or add it up\n",
    "#ver 1.2 add ability to exit a store without buying and go to next by typing 'exit', and to exit if a nonexistant item is bought(typed)\n",
    "#Add purse with 1000 gold pieces and payment for the items during or at end of code and show a message about total cost and how much gold you have left\n",
    "#ver 1.4 random bug fix, ' browser compatability', refactoring code... basically being lazy ..stop scrolling TikTok/Facebook! ;-)\n",
    "#Ver 1.5 print inventory before and after purchases as one department_store of stuff(combine inventories from all stores into one...pretend Big Biz bought all the local stores, and want constant reporting for inventory management...)\n",
    "### as in all games there is a special way to do this that actually makes money and solves the problem...can you find 'them'? Do you know why? May require knowledge of actual python 'lore'\n",
    "\n",
    "#create stores\n",
    "freelancers = {'name':'freelancing Shop','brian': 70, 'black knight':20, 'biccus diccus':100, 'grim reaper':500, 'minstrel':-15}\n",
    "antiques = {'name':'Antique Shop','french castle':400, 'wooden grail':3, 'scythe':150, 'catapult':75, 'german joke':5}\n",
    "pet_shop = {'name':'Pet Shop','blue parrot':10, 'white rabbit':5, 'newt': 2}\n",
    "\n",
    "\n",
    "\n",
    "\n",
    "\n",
    "\n",
    "\n",
    "\n",
    "#create an dempty shopping cart\n",
    "cart = {}\n",
    "#loop through stores/dicts\n",
    "for LOOP OVER THE SHOPS :\n",
    "    #inputbox  to show what you can buy...capture textstring of what was bought...make lowercase\n",
    "    buy_item = input(f'Welcome to {SHOPNAME}! what do you want to buy: {LIST ITEMS FOR SALE})\n",
    "    #update the cart\n",
    "    cart.update({insert KEYVAL:VALUE}) # use pop...\n",
    "print(f'You Purchased {ITEMS PUCHASED} Today it is all free. Have a nice day of mayhem!')"
   ]
  },
  {
   "cell_type": "code",
   "execution_count": 1,
   "metadata": {},
   "outputs": [],
   "source": [
    "#create stores\n",
    "freelancers = {'name':'freelancing Shop','brian': 70, 'black knight':20, 'biccus diccus':100, 'grim reaper':500, 'minstrel':-15}\n",
    "antiques = {'name':'Antique Shop','french castle':400, 'wooden grail':3, 'scythe':150, 'catapult':75, 'german joke':5}\n",
    "pet_shop = {'name':'Pet Shop','blue parrot':10, 'white rabbit':5, 'newt': 2}"
   ]
  },
  {
   "cell_type": "code",
   "execution_count": 4,
   "metadata": {},
   "outputs": [
    {
     "name": "stdout",
     "output_type": "stream",
     "text": [
      "Welcome to freelancing Shop! what do you want to buy: {'name': 'freelancing Shop', 'brian': 70, 'black knight': 20, 'biccus diccus': 100, 'grim reaper': 500, 'minstrel': -15}black knight\n",
      "Welcome to Antique Shop! what do you want to buy: {'name': 'Antique Shop', 'french castle': 400, 'wooden grail': 3, 'scythe': 150, 'catapult': 75, 'german joke': 5}scythe\n",
      "Welcome to Pet Shop! what do you want to buy: {'name': 'Pet Shop', 'blue parrot': 10, 'white rabbit': 5, 'newt': 2}white rabbit\n",
      "You Purchased black knight, scythe, white rabbit Today it is all free. Have a nice day of mayhem!\n"
     ]
    }
   ],
   "source": [
    "#create an dempty shopping cart\n",
    "cart = {}\n",
    "#loop through stores/dicts\n",
    "for shop in (freelancers,antiques,pet_shop) :\n",
    "    #inputbox  to show what you can buy...capture textstring of what was bought...make lowercase\n",
    "    buy_item = input(f'Welcome to {shop[\"name\"]}! what do you want to buy: {shop}').lower()\n",
    "    #update the cart\n",
    "    cart.update({buy_item:shop.pop(buy_item)}) # use pop...\n",
    "print(f'You Purchased {\", \".join(list(cart.keys()))} Today it is all free. Have a nice day of mayhem!')"
   ]
  },
  {
   "cell_type": "markdown",
   "metadata": {},
   "source": [
    "# Dictionaries - Exercise V1.2"
   ]
  },
  {
   "cell_type": "code",
   "execution_count": 3,
   "metadata": {},
   "outputs": [
    {
     "name": "stdout",
     "output_type": "stream",
     "text": [
      "Welcome to freelancing Shop! what do you want to buy: {'name': 'freelancing Shop', 'brian': 70, 'black knight': 20, 'biccus diccus': 100, 'grim reaper': 500, 'minstrel': -15}brian\n",
      "Welcome to Antique Shop! what do you want to buy: {'name': 'Antique Shop', 'french castle': 400, 'wooden grail': 3, 'scythe': 150, 'catapult': 75, 'german joke': 5}frenchc castle\n",
      "Welcome to Pet Shop! what do you want to buy: {'name': 'Pet Shop', 'blue parrot': 10, 'white rabbit': 5, 'newt': 2}lion\n",
      "You Purchased brian:70 . Your total charge is 70. Your change is 930. Have a nice day of mayhem!\n"
     ]
    }
   ],
   "source": [
    "freelancers = {'name':'freelancing Shop','brian': 70, 'black knight':20, 'biccus diccus':100, 'grim reaper':500, 'minstrel':-15}\n",
    "antiques = {'name':'Antique Shop','french castle':400, 'wooden grail':3, 'scythe':150, 'catapult':75, 'german joke':5}\n",
    "pet_shop = {'name':'Pet Shop','blue parrot':10, 'white rabbit':5, 'newt': 2}\n",
    "\n",
    "#create an dempty shopping cart\n",
    "cart = {}\n",
    "#create purse\n",
    "purse = 1000\n",
    "buy_items1 = ''\n",
    "#loop through stores/dicts\n",
    "for shop in (freelancers,antiques,pet_shop) :\n",
    "    #inputbox  to show what you can buy...capture textstring of what was bought...make lowercase\n",
    "    buy_item = input(f'Welcome to {shop[\"name\"]}! what do you want to buy: {shop}').lower()\n",
    "    #exit\n",
    "    if buy_item == 'exit':\n",
    "        continue\n",
    "    if buy_item not in shop:\n",
    "        continue\n",
    "            \n",
    "    buy_items1 += f'{buy_item}:{shop[buy_item]} '  \n",
    "    #update the cart\n",
    "    cart.update({buy_item:shop.pop(buy_item)}) # use pop...\n",
    "    buy_items = \", \".join(list(cart.keys()))\n",
    "print(f'You Purchased {buy_items1}. Your total charge is {sum(cart.values())}. Your change is {purse-sum(cart.values())}. Have a nice day of mayhem!')"
   ]
  },
  {
   "cell_type": "markdown",
   "metadata": {},
   "source": [
    "# Dictionaries - Exercise V1.5"
   ]
  },
  {
   "cell_type": "code",
   "execution_count": 4,
   "metadata": {},
   "outputs": [
    {
     "name": "stdout",
     "output_type": "stream",
     "text": [
      "Morning inventory of stores [('biccus diccus', 100), ('black knight', 20), ('blue parrot', 10), ('brian', 70), ('catapult', 75), ('french castle', 400), ('german joke', 5), ('grim reaper', 500), ('minstrel', -15), ('newt', 2), ('scythe', 150), ('white rabbit', 5), ('wooden grail', 3)]\n",
      "-----------------\n",
      "Welcome to freelancing Shop! (type exit to exit store) what do you want to buy: {'name': 'freelancing Shop', 'brian': 70, 'black knight': 20, 'biccus diccus': 100, 'grim reaper': 500, 'minstrel': -15}brian\n",
      "Welcome to Antique Shop! (type exit to exit store) what do you want to buy: {'name': 'Antique Shop', 'french castle': 400, 'wooden grail': 3, 'scythe': 150, 'catapult': 75, 'german joke': 5}exit\n",
      "Welcome to Pet Shop! (type exit to exit store) what do you want to buy: {'name': 'Pet Shop', 'blue parrot': 10, 'white rabbit': 5, 'newt': 2}blue parrot\n",
      "You Purchased brian, blue parrot. Your total is 80 Gp. Your change is 920 Gp. Have a nice day of mayhem!\n",
      "You Purchased brian:70 Gp, blue parrot:10 Gp, . Your total is 80 Gp. Your change is 920 Gp. Have a nice day of mayhem!\n",
      "-----------------\n",
      "Evening inventory of stores [('biccus diccus', 100), ('black knight', 20), ('catapult', 75), ('french castle', 400), ('german joke', 5), ('grim reaper', 500), ('minstrel', -15), ('newt', 2), ('scythe', 150), ('white rabbit', 5), ('wooden grail', 3)]\n"
     ]
    }
   ],
   "source": [
    "freelancers = {'name':'freelancing Shop','brian': 70, 'black knight':20, 'biccus diccus':100, 'grim reaper':500, 'minstrel':-15}\n",
    "antiques = {'name':'Antique Shop','french castle':400, 'wooden grail':3, 'scythe':150, 'catapult':75, 'german joke':5}\n",
    "pet_shop = {'name':'Pet Shop','blue parrot':10, 'white rabbit':5, 'newt': 2}\n",
    "#morning inventory\n",
    "department_store = {}\n",
    "for department in (freelancers, antiques, pet_shop) :department_store.update(department)\n",
    "department_store.pop('name')\n",
    "print('Morning inventory of stores', sorted(department_store.items()))\n",
    "print('-----------------')\n",
    "#create an dempty shopping cart\n",
    "cart = {}\n",
    "#create purse with 100Gp\n",
    "purse = 1000\n",
    "buy_items1 = ''\n",
    "#loop through stores/dicts\n",
    "for shop in (freelancers,antiques,pet_shop) :\n",
    "    #inputbox  to show what you can buy...capture textstring of what was bought...make lowercase\n",
    "    buy_item = input(f'Welcome to {shop[\"name\"]}! (type exit to exit store) what do you want to buy: {shop}').lower()\n",
    "    #exit on exit typed or buying nonexistant item\n",
    "    if buy_item == 'exit':\n",
    "        continue\n",
    "    if buy_item not in shop:\n",
    "        continue\n",
    "    #update string\n",
    "    buy_items1 = buy_items1 + f'{buy_item}:{shop[buy_item]} Gp, '    \n",
    "    #update the cart\n",
    "    cart.update({buy_item:shop.pop(buy_item)}) # use pop...\n",
    "    buy_items = \", \".join(list(cart.keys()))\n",
    "    total_sum = sum(cart.values())\n",
    "print(f'You Purchased {buy_items}. Your total is {total_sum} Gp. Your change is {purse - total_sum} Gp. Have a nice day of mayhem!')\n",
    "print(f'You Purchased {buy_items1}. Your total is {total_sum} Gp. Your change is {purse - total_sum} Gp. Have a nice day of mayhem!')\n",
    "#evening inventory\n",
    "department_store_after = {**freelancers, **antiques, **pet_shop} #pyth 3.5\n",
    "department_store_after.pop('name')\n",
    "print('-----------------')\n",
    "print('Evening inventory of stores', sorted(department_store_after.items()))\n"
   ]
  },
  {
   "cell_type": "markdown",
   "metadata": {},
   "source": [
    "# Lambda Functions - Exercise"
   ]
  },
  {
   "cell_type": "code",
   "execution_count": 1,
   "metadata": {},
   "outputs": [
    {
     "name": "stdout",
     "output_type": "stream",
     "text": [
      "7\n"
     ]
    }
   ],
   "source": [
    "f = lambda x: x + 5\n",
    "print(f(2))"
   ]
  },
  {
   "cell_type": "code",
   "execution_count": 2,
   "metadata": {},
   "outputs": [
    {
     "name": "stdout",
     "output_type": "stream",
     "text": [
      "MontyPythonsFlyingCircus\n"
     ]
    }
   ],
   "source": [
    "strip_spaces1 = lambda str:''.join(str.split(' '))  \n",
    "print(strip_spaces1('Monty Pythons Flying Circus')) "
   ]
  },
  {
   "cell_type": "code",
   "execution_count": 3,
   "metadata": {},
   "outputs": [
    {
     "name": "stdout",
     "output_type": "stream",
     "text": [
      "[1, 2, 3, 4, 5, 6, 7]\n"
     ]
    }
   ],
   "source": [
    "list_a = [1,2,3,4]\n",
    "list_b = [3,4,5,6,7]\n",
    "#write lambda below \n",
    "join_list_no_duplicates1 = lambda list_a,list_b:list(set(list_a + list_b))\n",
    "print(join_list_no_duplicates1(list_a,list_b))"
   ]
  },
  {
   "cell_type": "code",
   "execution_count": 4,
   "metadata": {},
   "outputs": [
    {
     "name": "stdout",
     "output_type": "stream",
     "text": [
      "22\n",
      "11\n"
     ]
    }
   ],
   "source": [
    "def create_quad_func(a,b,c):\n",
    "    return lambda x: a*x**2 + b*x + c\n",
    "f = create_quad_func(2,4,6)\n",
    "g = create_quad_func(1,2,3)\n",
    "print(f(2))\n",
    "print(g(2))"
   ]
  },
  {
   "cell_type": "code",
   "execution_count": 5,
   "metadata": {},
   "outputs": [
    {
     "name": "stdout",
     "output_type": "stream",
     "text": [
      "['MPF2', 'MPF3', 'MPF17', 'MPF20', 'MPF45', 'MPF104']\n"
     ]
    }
   ],
   "source": [
    "signups = ['MPF104', 'MPF20', 'MPF2', 'MPF17', 'MPF3', 'MPF45']\n",
    "print(sorted(signups,key = lambda id:int(id[3:]))) "
   ]
  },
  {
   "cell_type": "code",
   "execution_count": 8,
   "metadata": {},
   "outputs": [
    {
     "name": "stdout",
     "output_type": "stream",
     "text": [
      "['Terry', 'Eric', 'John']\n"
     ]
    }
   ],
   "source": [
    "class Player:\n",
    "    def __init__(self, name, score):\n",
    "        self.name = name\n",
    "        self.score =  score\n",
    "\n",
    "Eric = Player('Eric', 116700)\n",
    "John = Player('John', 24327)\n",
    "Terry = Player('Terry', 150000)\n",
    "player_list = [Eric, John, Terry]\n",
    "\n",
    "\n",
    "#Exercise: Sort this by score using lambda!\n",
    "player_list.sort(key = lambda playyer: playyer.score, reverse = True)\n",
    "print([player.name for player in player_list])"
   ]
  },
  {
   "cell_type": "code",
   "execution_count": null,
   "metadata": {},
   "outputs": [],
   "source": []
  }
 ],
 "metadata": {
  "kernelspec": {
   "display_name": "Python 3",
   "language": "python",
   "name": "python3"
  },
  "language_info": {
   "codemirror_mode": {
    "name": "ipython",
    "version": 3
   },
   "file_extension": ".py",
   "mimetype": "text/x-python",
   "name": "python",
   "nbconvert_exporter": "python",
   "pygments_lexer": "ipython3",
   "version": "3.7.3"
  }
 },
 "nbformat": 4,
 "nbformat_minor": 2
}
